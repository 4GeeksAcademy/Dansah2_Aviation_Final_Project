{
 "cells": [
  {
   "cell_type": "code",
   "execution_count": null,
   "id": "94bfd5a6",
   "metadata": {},
   "outputs": [],
   "source": [
    "from pathlib import Path\n",
    "\n",
    "import pandas as pd\n",
    "import functions.data_acquisition as data_funcs\n",
    "\n",
    "%cd ..\n",
    "\n",
    "import src.configuration as config"
   ]
  },
  {
   "cell_type": "markdown",
   "id": "6f31e473",
   "metadata": {},
   "source": [
    "## 2. On-time performance data from the Bureau of Transportation Statistics (BTS)\n",
    "\n",
    "Data source: [Airline Service Quality Performance 234 (On-Time performance data)](https://www.bts.gov/browse-statistical-products-and-data/bts-publications/airline-service-quality-performance-234-time)\n",
    "\n",
    "The data generated in the notebook was uploaded to Kaggle as an open-source dataset.\n",
    "\n",
    "contributors: https://www.kaggle.com/dyimahansah, \n",
    "\n",
    "Features: \n",
    "\n",
    "As you may notice, the features in the asc file are unlabeled. We were able to confirm each feature by cross referencing a sample in the asc file with a sample from BTS's manual download page located [here](https://www.transtats.bts.gov/DL_SelectFields.aspx?gnoyr_VQ=FGJ&QO_fu146_anzr=b0-gvzr).\n",
    "\n",
    "'carrier_number': A unique 4-digit code assigned by the North American Numbering Plan Administrator (NANP-A) to identify individual carriers within the North American numbering plan (NANP).\n",
    "\n",
    "'flight_number': A unique code assigned to a specific flight, acting as its identifier.\n",
    "\n",
    "'origin': The three character acronym indicating the departing airport.\n",
    "\n",
    "'destination': The three character acronym indicating the arrival airport.\n",
    "\n",
    "'date': The date of flight departure.\n",
    "\n",
    "'departure_time': The time of flight departure.\n",
    "\n",
    "'tail_number': AKA N-Number, is the aircraft registration number.\n",
    "\n"
   ]
  },
  {
   "cell_type": "code",
   "execution_count": null,
   "id": "76f561af",
   "metadata": {},
   "outputs": [],
   "source": [
    "### Download on-time data"
   ]
  },
  {
   "cell_type": "code",
   "execution_count": null,
   "id": "258cec5f",
   "metadata": {},
   "outputs": [],
   "source": [
    "links=data_funcs.get_ontime_links(config.ONTIME_DATA_URL)"
   ]
  },
  {
   "cell_type": "markdown",
   "id": "3178de9a",
   "metadata": {},
   "source": [
    "### Parse and combine on-time datafiles"
   ]
  },
  {
   "cell_type": "code",
   "execution_count": null,
   "id": "e0cb7565",
   "metadata": {},
   "outputs": [],
   "source": [
    "ontime_df=data_funcs.parse_asc_datafiles(config.ONTIME_FILES, config.RAW_DATA_DIRECTORY, config.RAW_ONTIME_CSV_FILE)"
   ]
  },
  {
   "cell_type": "code",
   "execution_count": null,
   "id": "3b0cd87c",
   "metadata": {},
   "outputs": [],
   "source": [
    "ontime_df.head().transpose()"
   ]
  },
  {
   "cell_type": "code",
   "execution_count": null,
   "id": "5cb028a9",
   "metadata": {},
   "outputs": [],
   "source": [
    "ontime_features={\n",
    "    'carrier': 0,\n",
    "    'flight_number': 1,\n",
    "    'origin': 6,\n",
    "    'destination': 7,\n",
    "    'date': 8,\n",
    "    'departure_time': 12,\n",
    "    'tail_number': 25 \n",
    "}\n",
    "\n",
    "extracted_ontime_df=ontime_df.iloc[:,list(ontime_features.values())].copy()\n",
    "extracted_ontime_df.columns=ontime_features.keys()\n",
    "extracted_ontime_df.dropna(inplace=True)\n",
    "extracted_ontime_df.head()"
   ]
  }
 ],
 "metadata": {
  "language_info": {
   "name": "python"
  }
 },
 "nbformat": 4,
 "nbformat_minor": 5
}
