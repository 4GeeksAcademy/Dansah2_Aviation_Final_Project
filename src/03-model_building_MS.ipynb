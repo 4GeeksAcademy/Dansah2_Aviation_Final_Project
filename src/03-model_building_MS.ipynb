{
 "cells": [
  {
   "cell_type": "markdown",
   "id": "67269d43",
   "metadata": {},
   "source": [
    "# Model building"
   ]
  },
  {
   "cell_type": "code",
   "execution_count": null,
   "id": "cfb18438",
   "metadata": {},
   "outputs": [],
   "source": [
    "import pickle\n",
    "from pathlib import Path\n",
    "\n",
    "import pandas as pd\n",
    "import matplotlib.pyplot as plt\n",
    "from scipy.stats import uniform, randint\n",
    "from sklearn.model_selection import cross_val_score, RandomizedSearchCV\n",
    "from sklearn.ensemble import HistGradientBoostingClassifier\n",
    "from sklearn.metrics import confusion_matrix, ConfusionMatrixDisplay\n",
    "\n",
    "import configuration as config"
   ]
  },
  {
   "cell_type": "markdown",
   "id": "f7670b7b",
   "metadata": {},
   "source": [
    "## 1. Load data"
   ]
  },
  {
   "cell_type": "code",
   "execution_count": null,
   "id": "a7fe1279",
   "metadata": {},
   "outputs": [],
   "source": [
    "train_df=pd.read_csv(config.TRAINING_DATAFILE)\n",
    "test_df=pd.read_csv(config.TESTING_DATAFILE)"
   ]
  },
  {
   "cell_type": "markdown",
   "id": "bb39d6dc",
   "metadata": {},
   "source": [
    "## 2. Cross-validation: naive model"
   ]
  },
  {
   "cell_type": "code",
   "execution_count": null,
   "id": "4b23f1aa",
   "metadata": {},
   "outputs": [],
   "source": [
    "# Your code here... I recommend trying HistGradientBoostingClassifier"
   ]
  },
  {
   "cell_type": "markdown",
   "id": "1f971b6a",
   "metadata": {},
   "source": [
    "## 3. Test-set performance: confusion matrix"
   ]
  },
  {
   "cell_type": "code",
   "execution_count": null,
   "id": "27b7062c",
   "metadata": {},
   "outputs": [],
   "source": [
    "# Plot a confusion matrix to evaluate the model's performance on unseen data"
   ]
  },
  {
   "cell_type": "markdown",
   "id": "de256b1c",
   "metadata": {},
   "source": [
    "## 4. Model optimization"
   ]
  },
  {
   "cell_type": "code",
   "execution_count": null,
   "id": "793787b9",
   "metadata": {},
   "outputs": [],
   "source": [
    "# Your code here... Use one of the sklearn hyperparameter optimization functions to optimize the model"
   ]
  },
  {
   "cell_type": "markdown",
   "id": "cce95666",
   "metadata": {},
   "source": [
    "## 5. Test-set performance: confusion matrix"
   ]
  },
  {
   "cell_type": "markdown",
   "id": "7680fb9d",
   "metadata": {},
   "source": [
    "## 6. Probability distributions"
   ]
  },
  {
   "cell_type": "code",
   "execution_count": null,
   "id": "c3fe9c07",
   "metadata": {},
   "outputs": [],
   "source": [
    "# Your code here... Plot the distributions of predicted probabilities for \n",
    "# incidents and non-incidents in the test set. Hint: sklearn has\n",
    "# model.predict_proba() that returns probabilities rather than class assignments"
   ]
  },
  {
   "cell_type": "markdown",
   "id": "e59958c2",
   "metadata": {},
   "source": [
    "## 7. Save the optimized model"
   ]
  },
  {
   "cell_type": "code",
   "execution_count": null,
   "id": "adf1270d",
   "metadata": {},
   "outputs": [],
   "source": [
    "Path(config.MODEL_DIRECTORY).mkdir(exist_ok=True)\n",
    "\n",
    "with open(config.MODEL, 'rb') as output_file:\n",
    "    pickle.dump(model, output_file)"
   ]
  }
 ],
 "metadata": {
  "language_info": {
   "name": "python"
  }
 },
 "nbformat": 4,
 "nbformat_minor": 5
}
