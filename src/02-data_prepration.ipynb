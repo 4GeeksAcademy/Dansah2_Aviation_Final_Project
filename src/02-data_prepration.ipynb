{
 "cells": [
  {
   "cell_type": "markdown",
   "id": "9f5d134c",
   "metadata": {},
   "source": [
    "# Data preparation"
   ]
  },
  {
   "cell_type": "code",
   "execution_count": null,
   "id": "c5b52398",
   "metadata": {},
   "outputs": [],
   "source": [
    "import pickle\n",
    "from pathlib import Path\n",
    "\n",
    "import pandas as pd\n",
    "from sklearn.model_selection import train_test_split\n",
    "from sklearn.preprocessing import OrdinalEncoder\n",
    "\n",
    "import configuration as config"
   ]
  },
  {
   "cell_type": "markdown",
   "id": "36bf5315",
   "metadata": {},
   "source": [
    "## 1. Load combined data"
   ]
  },
  {
   "cell_type": "code",
   "execution_count": null,
   "id": "eeb7cd31",
   "metadata": {},
   "outputs": [],
   "source": [
    "data_df=pd.read_csv(config.COMBINED_DATAFILE)"
   ]
  },
  {
   "cell_type": "markdown",
   "id": "3df301c7",
   "metadata": {},
   "source": [
    "## 2. Combine origin/destination to 'route'"
   ]
  },
  {
   "cell_type": "code",
   "execution_count": null,
   "id": "2334a056",
   "metadata": {},
   "outputs": [],
   "source": [
    "# Your code here..."
   ]
  },
  {
   "cell_type": "markdown",
   "id": "755ffeca",
   "metadata": {},
   "source": [
    "## 3. Encode departure time"
   ]
  },
  {
   "cell_type": "code",
   "execution_count": null,
   "id": "555b2f2e",
   "metadata": {},
   "outputs": [],
   "source": [
    "# Your code here - hint: use cyclical sin/cos encoding"
   ]
  },
  {
   "cell_type": "markdown",
   "id": "e44fe230",
   "metadata": {},
   "source": [
    "## 4. Clean up features"
   ]
  },
  {
   "cell_type": "code",
   "execution_count": null,
   "id": "eb7313bb",
   "metadata": {},
   "outputs": [],
   "source": [
    "# Your code here... For now, we don't need the tail number. Also \n",
    "# get rid of unencoded versions of the features we just handled."
   ]
  },
  {
   "cell_type": "markdown",
   "id": "2928e83a",
   "metadata": {},
   "source": [
    "## 5. Train-test split"
   ]
  },
  {
   "cell_type": "code",
   "execution_count": null,
   "id": "bc64e7bb",
   "metadata": {},
   "outputs": [],
   "source": [
    "# Your code here... you know the drill!"
   ]
  },
  {
   "cell_type": "markdown",
   "id": "e095349a",
   "metadata": {},
   "source": [
    "## 6. Encode route"
   ]
  },
  {
   "cell_type": "code",
   "execution_count": null,
   "id": "d992fd85",
   "metadata": {},
   "outputs": [],
   "source": [
    "# Your code here... Hint: try OrdinalEncoder(), OneHotEncoder() seems like it's the right\n",
    "# thing to do - but think about why it might be problematic with this data!"
   ]
  },
  {
   "cell_type": "markdown",
   "id": "76405ec5",
   "metadata": {},
   "source": [
    "## 7. Save"
   ]
  },
  {
   "cell_type": "code",
   "execution_count": null,
   "id": "8dc7fe5f",
   "metadata": {},
   "outputs": [],
   "source": [
    "Path(config.PROCESSED_DATA_DIRECTORY).mkdir(exist_ok=True)\n",
    "\n",
    "data_df.to_csv(config.ENCODED_DATAFILE)\n",
    "train_df.to_csv(config.TRAINING_DATAFILE)\n",
    "test_df.to_csv(config.TESTING_DATAFILE)"
   ]
  }
 ],
 "metadata": {
  "language_info": {
   "name": "python"
  }
 },
 "nbformat": 4,
 "nbformat_minor": 5
}
