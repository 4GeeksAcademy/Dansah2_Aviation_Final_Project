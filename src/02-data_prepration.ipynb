{
 "cells": [
  {
   "cell_type": "markdown",
   "id": "9f5d134c",
   "metadata": {},
   "source": [
    "# Data preparation"
   ]
  },
  {
   "cell_type": "code",
   "execution_count": 1,
   "id": "c5b52398",
   "metadata": {},
   "outputs": [],
   "source": [
    "import pickle\n",
    "from pathlib import Path\n",
    "\n",
    "import pandas as pd\n",
    "from sklearn.model_selection import train_test_split\n",
    "from sklearn.preprocessing import OrdinalEncoder\n",
    "\n",
    "import configuration as config"
   ]
  },
  {
   "cell_type": "markdown",
   "id": "36bf5315",
   "metadata": {},
   "source": [
    "## 1. Load combined data"
   ]
  },
  {
   "cell_type": "code",
   "execution_count": 2,
   "id": "eeb7cd31",
   "metadata": {},
   "outputs": [
    {
     "name": "stdout",
     "output_type": "stream",
     "text": [
      "<class 'pandas.core.frame.DataFrame'>\n",
      "RangeIndex: 668357 entries, 0 to 668356\n",
      "Data columns (total 5 columns):\n",
      " #   Column          Non-Null Count   Dtype  \n",
      "---  ------          --------------   -----  \n",
      " 0   origin          668357 non-null  object \n",
      " 1   destination     668357 non-null  object \n",
      " 2   departure_time  668357 non-null  float64\n",
      " 3   tail_number     668357 non-null  object \n",
      " 4   incident        668357 non-null  int64  \n",
      "dtypes: float64(1), int64(1), object(3)\n",
      "memory usage: 25.5+ MB\n"
     ]
    }
   ],
   "source": [
    "data_df=pd.read_csv(config.COMBINED_DATAFILE)\n",
    "data_df.info()"
   ]
  },
  {
   "cell_type": "markdown",
   "id": "3df301c7",
   "metadata": {},
   "source": [
    "## 2. Combine origin/destination to 'route'"
   ]
  },
  {
   "cell_type": "code",
   "execution_count": 3,
   "id": "2334a056",
   "metadata": {},
   "outputs": [],
   "source": [
    "data_df['route'] = data_df['origin'] + ' to ' + data_df['destination']"
   ]
  },
  {
   "cell_type": "markdown",
   "id": "755ffeca",
   "metadata": {},
   "source": [
    "## 3. Encode departure time"
   ]
  },
  {
   "cell_type": "code",
   "execution_count": null,
   "id": "555b2f2e",
   "metadata": {},
   "outputs": [
    {
     "name": "stdout",
     "output_type": "stream",
     "text": [
      "   departure_time  departure_time_sin  departure_time_cos\n",
      "0          1732.0           -0.984196           -0.177085\n",
      "1          1730.0           -0.983255           -0.182236\n",
      "2          1726.0           -0.981293           -0.192522\n",
      "3          1734.0           -0.985109           -0.171929\n",
      "4          1730.0           -0.983255           -0.182236\n"
     ]
    }
   ],
   "source": [
    "import numpy as np\n",
    "\n",
    "# departure_times = data_df['departure_time'].copy() \n",
    "\n",
    "# def time_to_seconds(time_str):\n",
    "#     parts = time_str.split(':')\n",
    "#     hours = int(parts[0])\n",
    "#     minutes = int(parts[1])\n",
    "#     seconds = int(parts[2]) if len(parts) > 2 else 0\n",
    "#     return hours * 3600 + minutes * 60 + seconds\n",
    "\n",
    "# if departure_times.dtype == 'object':\n",
    "#     total_seconds = departure_times.apply(time_to_seconds)\n",
    "# else:\n",
    "#     total_seconds = departure_times\n",
    "\n",
    "# max_seconds_in_day = 24 * 3600\n",
    "# normalized_time = total_seconds / max_seconds_in_day\n",
    "\n",
    "# Departure time is already a float, storing the 24 hr clock time, don't need \n",
    "# to try and parse it.'''\n",
    "\n",
    "data_df['departure_time_sin'] = np.sin(2 * np.pi * data_df['departure_time']/2400)\n",
    "data_df['departure_time_cos'] = np.cos(2 * np.pi * data_df['departure_time']/2400)\n",
    "\n",
    "print(data_df[['departure_time', 'departure_time_sin', 'departure_time_cos']].head())"
   ]
  },
  {
   "cell_type": "code",
   "execution_count": 5,
   "id": "3e73a1f4",
   "metadata": {},
   "outputs": [],
   "source": [
    "# Shouldn't combine the sin & cos columns here - this results in a two member\n",
    "# list in each cell - models can't take that, they need a number.\n",
    "\n",
    "# data_df['departure_time'] = list(zip(data_df['departure_time_sin'], data_df['departure_time_cos']))\n",
    "# data_df = data_df.drop(['departure_time_sin', 'departure_time_cos'], axis=1)"
   ]
  },
  {
   "cell_type": "markdown",
   "id": "e44fe230",
   "metadata": {},
   "source": [
    "## 4. Clean up features"
   ]
  },
  {
   "cell_type": "code",
   "execution_count": 6,
   "id": "eb7313bb",
   "metadata": {},
   "outputs": [],
   "source": [
    "# Added drop of un-concatenated origin and destination and original departure time.\n",
    "data_df = data_df.drop(['tail_number','origin', 'destination', 'departure_time'], axis=1)"
   ]
  },
  {
   "cell_type": "code",
   "execution_count": 7,
   "id": "79eab39e",
   "metadata": {},
   "outputs": [
    {
     "data": {
      "text/html": [
       "<div>\n",
       "<style scoped>\n",
       "    .dataframe tbody tr th:only-of-type {\n",
       "        vertical-align: middle;\n",
       "    }\n",
       "\n",
       "    .dataframe tbody tr th {\n",
       "        vertical-align: top;\n",
       "    }\n",
       "\n",
       "    .dataframe thead th {\n",
       "        text-align: right;\n",
       "    }\n",
       "</style>\n",
       "<table border=\"1\" class=\"dataframe\">\n",
       "  <thead>\n",
       "    <tr style=\"text-align: right;\">\n",
       "      <th></th>\n",
       "      <th>incident</th>\n",
       "      <th>route</th>\n",
       "      <th>departure_time_sin</th>\n",
       "      <th>departure_time_cos</th>\n",
       "    </tr>\n",
       "  </thead>\n",
       "  <tbody>\n",
       "    <tr>\n",
       "      <th>0</th>\n",
       "      <td>0</td>\n",
       "      <td>CLT to LGA</td>\n",
       "      <td>-0.984196</td>\n",
       "      <td>-0.177085</td>\n",
       "    </tr>\n",
       "    <tr>\n",
       "      <th>1</th>\n",
       "      <td>0</td>\n",
       "      <td>CLT to LGA</td>\n",
       "      <td>-0.983255</td>\n",
       "      <td>-0.182236</td>\n",
       "    </tr>\n",
       "    <tr>\n",
       "      <th>2</th>\n",
       "      <td>0</td>\n",
       "      <td>CLT to LGA</td>\n",
       "      <td>-0.981293</td>\n",
       "      <td>-0.192522</td>\n",
       "    </tr>\n",
       "    <tr>\n",
       "      <th>3</th>\n",
       "      <td>0</td>\n",
       "      <td>CLT to LGA</td>\n",
       "      <td>-0.985109</td>\n",
       "      <td>-0.171929</td>\n",
       "    </tr>\n",
       "    <tr>\n",
       "      <th>4</th>\n",
       "      <td>0</td>\n",
       "      <td>CLT to LGA</td>\n",
       "      <td>-0.983255</td>\n",
       "      <td>-0.182236</td>\n",
       "    </tr>\n",
       "  </tbody>\n",
       "</table>\n",
       "</div>"
      ],
      "text/plain": [
       "   incident       route  departure_time_sin  departure_time_cos\n",
       "0         0  CLT to LGA           -0.984196           -0.177085\n",
       "1         0  CLT to LGA           -0.983255           -0.182236\n",
       "2         0  CLT to LGA           -0.981293           -0.192522\n",
       "3         0  CLT to LGA           -0.985109           -0.171929\n",
       "4         0  CLT to LGA           -0.983255           -0.182236"
      ]
     },
     "execution_count": 7,
     "metadata": {},
     "output_type": "execute_result"
    }
   ],
   "source": [
    "data_df.head()"
   ]
  },
  {
   "cell_type": "markdown",
   "id": "2928e83a",
   "metadata": {},
   "source": [
    "## 5. Train-test split"
   ]
  },
  {
   "cell_type": "code",
   "execution_count": 8,
   "id": "bc64e7bb",
   "metadata": {},
   "outputs": [],
   "source": [
    "from sklearn.model_selection import train_test_split\n",
    "\n",
    "# Cleaner to keep the features and labels together here - less files to\n",
    "# save and load later\n",
    "\n",
    "# X = data_df.drop('incident', axis=1) \n",
    "# y = data_df['incident']            \n",
    "\n",
    "train_df, test_df = train_test_split(data_df, test_size=0.2, random_state=42)"
   ]
  },
  {
   "cell_type": "markdown",
   "id": "e095349a",
   "metadata": {},
   "source": [
    "## 6. Encode route"
   ]
  },
  {
   "cell_type": "code",
   "execution_count": 9,
   "id": "d992fd85",
   "metadata": {},
   "outputs": [],
   "source": [
    "from sklearn.preprocessing import OrdinalEncoder\n",
    "\n",
    "encoder=OrdinalEncoder()\n",
    "\n",
    "data_df['route']=encoder.fit(data_df['route'].to_frame())\n",
    "train_df['route']=encoder.transform(train_df['route'].to_frame())\n",
    "test_df['route']=encoder.transform(test_df['route'].to_frame())"
   ]
  },
  {
   "cell_type": "markdown",
   "id": "76405ec5",
   "metadata": {},
   "source": [
    "## 7. Save"
   ]
  },
  {
   "cell_type": "code",
   "execution_count": 10,
   "id": "8dc7fe5f",
   "metadata": {},
   "outputs": [],
   "source": [
    "Path(config.PROCESSED_DATA_DIRECTORY).mkdir(exist_ok=True)\n",
    "\n",
    "data_df.to_csv(config.ENCODED_DATAFILE)\n",
    "\n",
    "train_df.to_csv(config.TRAINING_DATAFILE)\n",
    "test_df.to_csv(config.TESTING_DATAFILE)"
   ]
  }
 ],
 "metadata": {
  "kernelspec": {
   "display_name": "Python 3",
   "language": "python",
   "name": "python3"
  },
  "language_info": {
   "codemirror_mode": {
    "name": "ipython",
    "version": 3
   },
   "file_extension": ".py",
   "mimetype": "text/x-python",
   "name": "python",
   "nbconvert_exporter": "python",
   "pygments_lexer": "ipython3",
   "version": "3.11.4"
  }
 },
 "nbformat": 4,
 "nbformat_minor": 5
}
