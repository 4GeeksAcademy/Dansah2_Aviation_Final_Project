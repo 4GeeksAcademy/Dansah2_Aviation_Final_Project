{
 "cells": [
  {
   "cell_type": "markdown",
   "id": "9f5d134c",
   "metadata": {},
   "source": [
    "# Data preparation"
   ]
  },
  {
   "cell_type": "code",
   "execution_count": 1,
   "id": "c5b52398",
   "metadata": {},
   "outputs": [],
   "source": [
    "import pickle\n",
    "from pathlib import Path\n",
    "\n",
    "import pandas as pd\n",
    "from sklearn.model_selection import train_test_split\n",
    "from sklearn.preprocessing import OrdinalEncoder\n",
    "\n",
    "import configuration as config"
   ]
  },
  {
   "cell_type": "markdown",
   "id": "36bf5315",
   "metadata": {},
   "source": [
    "## 1. Load combined data"
   ]
  },
  {
   "cell_type": "code",
   "execution_count": 2,
   "id": "eeb7cd31",
   "metadata": {},
   "outputs": [],
   "source": [
    "data_df=pd.read_csv(config.COMBINED_DATAFILE)"
   ]
  },
  {
   "cell_type": "markdown",
   "id": "3df301c7",
   "metadata": {},
   "source": [
    "## 2. Combine origin/destination to 'route'"
   ]
  },
  {
   "cell_type": "code",
   "execution_count": 10,
   "id": "2334a056",
   "metadata": {},
   "outputs": [],
   "source": [
    "data_df['route'] = data_df['origin'] + ' to ' + data_df['destination']"
   ]
  },
  {
   "cell_type": "code",
   "execution_count": 12,
   "id": "eb9e8cfa",
   "metadata": {},
   "outputs": [
    {
     "name": "stdout",
     "output_type": "stream",
     "text": [
      "Index(['origin', 'destination', 'departure_time', 'tail_number', 'incident',\n",
      "       'route'],\n",
      "      dtype='object')\n"
     ]
    }
   ],
   "source": [
    "print(data_df.columns)"
   ]
  },
  {
   "cell_type": "markdown",
   "id": "755ffeca",
   "metadata": {},
   "source": [
    "## 3. Encode departure time"
   ]
  },
  {
   "cell_type": "code",
   "execution_count": null,
   "id": "555b2f2e",
   "metadata": {},
   "outputs": [
    {
     "name": "stdout",
     "output_type": "stream",
     "text": [
      "   departure_time  departure_time_sin  departure_time_cos\n",
      "0          1338.0            0.097149            0.995270\n",
      "1           821.0            0.059669            0.998218\n",
      "2           901.0            0.065476            0.997854\n",
      "3          1135.0            0.082446            0.996596\n",
      "4           928.0            0.067435            0.997724\n"
     ]
    }
   ],
   "source": [
    "import numpy as np\n",
    "\n",
    "departure_times = data_df['departure_time'].copy() \n",
    "\n",
    "def time_to_seconds(time_str):\n",
    "    parts = time_str.split(':')\n",
    "    hours = int(parts[0])\n",
    "    minutes = int(parts[1])\n",
    "    seconds = int(parts[2]) if len(parts) > 2 else 0\n",
    "    return hours * 3600 + minutes * 60 + seconds\n",
    "\n",
    "if departure_times.dtype == 'object':\n",
    "    total_seconds = departure_times.apply(time_to_seconds)\n",
    "else:\n",
    "    total_seconds = departure_times\n",
    "\n",
    "max_seconds_in_day = 24 * 3600\n",
    "normalized_time = total_seconds / max_seconds_in_day\n",
    "\n",
    "data_df['departure_time_sin'] = np.sin(2 * np.pi * normalized_time)\n",
    "data_df['departure_time_cos'] = np.cos(2 * np.pi * normalized_time)\n",
    "\n",
    "print(data_df[['departure_time', 'departure_time_sin', 'departure_time_cos']].head())"
   ]
  },
  {
   "cell_type": "code",
   "execution_count": 16,
   "id": "3e73a1f4",
   "metadata": {},
   "outputs": [],
   "source": [
    "# 1. Combine 'departure_time_sin' and 'departure_time_cos' into a list of tuples\n",
    "data_df['departure_time'] = list(zip(data_df['departure_time_sin'], data_df['departure_time_cos']))\n",
    "\n",
    "# 2. Remove the original sine and cosine columns\n",
    "data_df = data_df.drop(['departure_time_sin', 'departure_time_cos'], axis=1)\n",
    "\n",
    "# Now your DataFrame 'data_df' will have a single 'departure_time' column\n",
    "# containing tuples of (sin_value, cos_value)."
   ]
  },
  {
   "cell_type": "code",
   "execution_count": 17,
   "id": "189f88d6",
   "metadata": {},
   "outputs": [
    {
     "data": {
      "text/plain": [
       "<bound method NDFrame.head of        origin destination                             departure_time  \\\n",
       "0         LGA         ORF  (0.09714864061033167, 0.9952698838142168)   \n",
       "1         DTW         MSN  (0.05966933989164823, 0.9982181975284237)   \n",
       "2         MSP         BIS  (0.06547569540580747, 0.9978541643502451)   \n",
       "3         BIS         MSP  (0.08244584060375283, 0.9965955465318619)   \n",
       "4         MSN         DTW  (0.06743485000226511, 0.9977236796854989)   \n",
       "...       ...         ...                                        ...   \n",
       "645565    3G3         POV  (0.07592141872045746, 0.9971138040261367)   \n",
       "645566   KBFI        KAPA  (0.13398618541829205, 0.9909831997148363)   \n",
       "645567   PASX         PVT   (0.15930686806752256, 0.987229113117374)   \n",
       "645568   PACM        PANC  (0.009817319337149617, 0.999951808959328)   \n",
       "645569    LBL         LBL   (0.1254775294722748, 0.9920964618410523)   \n",
       "\n",
       "       tail_number  incident         route  \n",
       "0           N915XJ         0    LGA to ORF  \n",
       "1           N907XJ         0    DTW to MSN  \n",
       "2           N166PQ         0    MSP to BIS  \n",
       "3           N166PQ         0    BIS to MSP  \n",
       "4           N907XJ         0    MSN to DTW  \n",
       "...            ...       ...           ...  \n",
       "645565      N262LH         1    3G3 to POV  \n",
       "645566      N7987R         1  KBFI to KAPA  \n",
       "645567      N2527B         1   PASX to PVT  \n",
       "645568      N304PT         1  PACM to PANC  \n",
       "645569      N38871         1    LBL to LBL  \n",
       "\n",
       "[645570 rows x 6 columns]>"
      ]
     },
     "execution_count": 17,
     "metadata": {},
     "output_type": "execute_result"
    }
   ],
   "source": [
    "data_df.head"
   ]
  },
  {
   "cell_type": "markdown",
   "id": "e44fe230",
   "metadata": {},
   "source": [
    "## 4. Clean up features"
   ]
  },
  {
   "cell_type": "code",
   "execution_count": 5,
   "id": "eb7313bb",
   "metadata": {},
   "outputs": [],
   "source": [
    "# Your code here... For now, we don't need the tail number. Also \n",
    "# get rid of unencoded versions of the features we just handled."
   ]
  },
  {
   "cell_type": "markdown",
   "id": "2928e83a",
   "metadata": {},
   "source": [
    "## 5. Train-test split"
   ]
  },
  {
   "cell_type": "code",
   "execution_count": 6,
   "id": "bc64e7bb",
   "metadata": {},
   "outputs": [],
   "source": [
    "# Your code here... you know the drill!"
   ]
  },
  {
   "cell_type": "markdown",
   "id": "e095349a",
   "metadata": {},
   "source": [
    "## 6. Encode route"
   ]
  },
  {
   "cell_type": "code",
   "execution_count": 7,
   "id": "d992fd85",
   "metadata": {},
   "outputs": [],
   "source": [
    "# Your code here... Hint: try OrdinalEncoder(), OneHotEncoder() seems like it's the right\n",
    "# thing to do - but think about why it might be problematic with this data!"
   ]
  },
  {
   "cell_type": "markdown",
   "id": "76405ec5",
   "metadata": {},
   "source": [
    "## 7. Save"
   ]
  },
  {
   "cell_type": "code",
   "execution_count": 8,
   "id": "8dc7fe5f",
   "metadata": {},
   "outputs": [
    {
     "ename": "NameError",
     "evalue": "name 'train_df' is not defined",
     "output_type": "error",
     "traceback": [
      "\u001b[31m---------------------------------------------------------------------------\u001b[39m",
      "\u001b[31mNameError\u001b[39m                                 Traceback (most recent call last)",
      "\u001b[36mCell\u001b[39m\u001b[36m \u001b[39m\u001b[32mIn[8]\u001b[39m\u001b[32m, line 4\u001b[39m\n\u001b[32m      1\u001b[39m Path(config.PROCESSED_DATA_DIRECTORY).mkdir(exist_ok=\u001b[38;5;28;01mTrue\u001b[39;00m)\n\u001b[32m      3\u001b[39m data_df.to_csv(config.ENCODED_DATAFILE)\n\u001b[32m----> \u001b[39m\u001b[32m4\u001b[39m \u001b[43mtrain_df\u001b[49m.to_csv(config.TRAINING_DATAFILE)\n\u001b[32m      5\u001b[39m test_df.to_csv(config.TESTING_DATAFILE)\n",
      "\u001b[31mNameError\u001b[39m: name 'train_df' is not defined"
     ]
    }
   ],
   "source": [
    "Path(config.PROCESSED_DATA_DIRECTORY).mkdir(exist_ok=True)\n",
    "\n",
    "data_df.to_csv(config.ENCODED_DATAFILE)\n",
    "train_df.to_csv(config.TRAINING_DATAFILE)\n",
    "test_df.to_csv(config.TESTING_DATAFILE)"
   ]
  }
 ],
 "metadata": {
  "kernelspec": {
   "display_name": "Python 3",
   "language": "python",
   "name": "python3"
  },
  "language_info": {
   "codemirror_mode": {
    "name": "ipython",
    "version": 3
   },
   "file_extension": ".py",
   "mimetype": "text/x-python",
   "name": "python",
   "nbconvert_exporter": "python",
   "pygments_lexer": "ipython3",
   "version": "3.11.4"
  }
 },
 "nbformat": 4,
 "nbformat_minor": 5
}
