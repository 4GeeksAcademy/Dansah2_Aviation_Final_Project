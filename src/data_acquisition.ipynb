{
 "cells": [
  {
   "cell_type": "markdown",
   "id": "fc0fa110",
   "metadata": {},
   "source": [
    "# Data acquisition"
   ]
  },
  {
   "cell_type": "code",
   "execution_count": 2,
   "id": "673eaffe",
   "metadata": {},
   "outputs": [],
   "source": [
    "import importlib\n",
    "import pandas as pd\n",
    "import functions.data_acquisition as data_funcs"
   ]
  },
  {
   "cell_type": "markdown",
   "id": "cb0c1f62",
   "metadata": {},
   "source": [
    "## 1. NTSB incident data\n",
    "\n",
    "Data source: [NTSB Downloadable Aviation Datasets](https://data.ntsb.gov/avdata)"
   ]
  },
  {
   "cell_type": "markdown",
   "id": "c3cd340f",
   "metadata": {},
   "source": [
    "### 1.1. Download"
   ]
  },
  {
   "cell_type": "code",
   "execution_count": 13,
   "id": "15eb4f6d",
   "metadata": {},
   "outputs": [],
   "source": [
    "url='https://data.ntsb.gov/avdata/FileDirectory/DownloadFile?fileID=C%3A%5Cavdata%5Cavall.zip'\n",
    "data_funcs.download_data(url)"
   ]
  },
  {
   "cell_type": "markdown",
   "id": "5604392c",
   "metadata": {},
   "source": [
    "### 1.2. Parse\n",
    "\n",
    "Uses [access_parser](https://github.com/claroty/access_parser) to convert Microsoft Access database file to CSV and then read into Pandas DataFrame."
   ]
  },
  {
   "cell_type": "code",
   "execution_count": 14,
   "id": "c7afdf7c",
   "metadata": {},
   "outputs": [],
   "source": [
    "file='avall.mdb'\n",
    "table=data_funcs.parse_mdb(file)"
   ]
  },
  {
   "cell_type": "markdown",
   "id": "6811c603",
   "metadata": {},
   "source": [
    "### 1.3. Read"
   ]
  },
  {
   "cell_type": "code",
   "execution_count": 2,
   "id": "35da44ad",
   "metadata": {},
   "outputs": [
    {
     "data": {
      "text/html": [
       "<div>\n",
       "<style scoped>\n",
       "    .dataframe tbody tr th:only-of-type {\n",
       "        vertical-align: middle;\n",
       "    }\n",
       "\n",
       "    .dataframe tbody tr th {\n",
       "        vertical-align: top;\n",
       "    }\n",
       "\n",
       "    .dataframe thead th {\n",
       "        text-align: right;\n",
       "    }\n",
       "</style>\n",
       "<table border=\"1\" class=\"dataframe\">\n",
       "  <thead>\n",
       "    <tr style=\"text-align: right;\">\n",
       "      <th></th>\n",
       "      <th>Aircraft_Key</th>\n",
       "      <th>cert_max_gr_wt</th>\n",
       "      <th>fc_seats</th>\n",
       "      <th>cc_seats</th>\n",
       "      <th>pax_seats</th>\n",
       "      <th>total_seats</th>\n",
       "      <th>num_eng</th>\n",
       "      <th>date_last_insp</th>\n",
       "      <th>afm_hrs_last_insp</th>\n",
       "      <th>afm_hrs</th>\n",
       "      <th>...</th>\n",
       "      <th>lchg_userid</th>\n",
       "      <th>afm_hrs_since</th>\n",
       "      <th>rwy_num</th>\n",
       "      <th>site_seeing</th>\n",
       "      <th>air_medical</th>\n",
       "      <th>med_type_flight</th>\n",
       "      <th>fuel_on_board</th>\n",
       "      <th>elt_manufacturer</th>\n",
       "      <th>elt_model</th>\n",
       "      <th>elt_reason_other</th>\n",
       "    </tr>\n",
       "  </thead>\n",
       "  <tbody>\n",
       "    <tr>\n",
       "      <th>0</th>\n",
       "      <td>1</td>\n",
       "      <td>NaN</td>\n",
       "      <td>NaN</td>\n",
       "      <td>NaN</td>\n",
       "      <td>NaN</td>\n",
       "      <td>NaN</td>\n",
       "      <td>NaN</td>\n",
       "      <td>NaN</td>\n",
       "      <td>NaN</td>\n",
       "      <td>NaN</td>\n",
       "      <td>...</td>\n",
       "      <td>gibs-i</td>\n",
       "      <td>N</td>\n",
       "      <td>NaN</td>\n",
       "      <td>N</td>\n",
       "      <td>N</td>\n",
       "      <td>NaN</td>\n",
       "      <td>NaN</td>\n",
       "      <td>NaN</td>\n",
       "      <td>NaN</td>\n",
       "      <td>NaN</td>\n",
       "    </tr>\n",
       "    <tr>\n",
       "      <th>1</th>\n",
       "      <td>1</td>\n",
       "      <td>2400.0</td>\n",
       "      <td>NaN</td>\n",
       "      <td>NaN</td>\n",
       "      <td>NaN</td>\n",
       "      <td>4.0</td>\n",
       "      <td>1.0</td>\n",
       "      <td>2007-04-01 00:00:00</td>\n",
       "      <td>75.0</td>\n",
       "      <td>2865.0</td>\n",
       "      <td>...</td>\n",
       "      <td>NaN</td>\n",
       "      <td>Y</td>\n",
       "      <td>7</td>\n",
       "      <td>N</td>\n",
       "      <td>N</td>\n",
       "      <td>NaN</td>\n",
       "      <td>NaN</td>\n",
       "      <td>NaN</td>\n",
       "      <td>NaN</td>\n",
       "      <td>NaN</td>\n",
       "    </tr>\n",
       "    <tr>\n",
       "      <th>2</th>\n",
       "      <td>2</td>\n",
       "      <td>1960.0</td>\n",
       "      <td>NaN</td>\n",
       "      <td>NaN</td>\n",
       "      <td>NaN</td>\n",
       "      <td>2.0</td>\n",
       "      <td>1.0</td>\n",
       "      <td>2007-01-01 00:00:00</td>\n",
       "      <td>NaN</td>\n",
       "      <td>340.0</td>\n",
       "      <td>...</td>\n",
       "      <td>NaN</td>\n",
       "      <td>Y</td>\n",
       "      <td>7</td>\n",
       "      <td>N</td>\n",
       "      <td>N</td>\n",
       "      <td>NaN</td>\n",
       "      <td>NaN</td>\n",
       "      <td>NaN</td>\n",
       "      <td>NaN</td>\n",
       "      <td>NaN</td>\n",
       "    </tr>\n",
       "    <tr>\n",
       "      <th>3</th>\n",
       "      <td>1</td>\n",
       "      <td>2850.0</td>\n",
       "      <td>NaN</td>\n",
       "      <td>NaN</td>\n",
       "      <td>NaN</td>\n",
       "      <td>2.0</td>\n",
       "      <td>1.0</td>\n",
       "      <td>2007-09-01 00:00:00</td>\n",
       "      <td>NaN</td>\n",
       "      <td>516.0</td>\n",
       "      <td>...</td>\n",
       "      <td>NaN</td>\n",
       "      <td>N</td>\n",
       "      <td>090</td>\n",
       "      <td>N</td>\n",
       "      <td>N</td>\n",
       "      <td>NaN</td>\n",
       "      <td>NaN</td>\n",
       "      <td>NaN</td>\n",
       "      <td>NaN</td>\n",
       "      <td>NaN</td>\n",
       "    </tr>\n",
       "    <tr>\n",
       "      <th>4</th>\n",
       "      <td>1</td>\n",
       "      <td>9920.0</td>\n",
       "      <td>NaN</td>\n",
       "      <td>NaN</td>\n",
       "      <td>NaN</td>\n",
       "      <td>9.0</td>\n",
       "      <td>1.0</td>\n",
       "      <td>NaN</td>\n",
       "      <td>NaN</td>\n",
       "      <td>1871.0</td>\n",
       "      <td>...</td>\n",
       "      <td>NaN</td>\n",
       "      <td>N</td>\n",
       "      <td>NaN</td>\n",
       "      <td>N</td>\n",
       "      <td>N</td>\n",
       "      <td>NaN</td>\n",
       "      <td>NaN</td>\n",
       "      <td>NaN</td>\n",
       "      <td>NaN</td>\n",
       "      <td>NaN</td>\n",
       "    </tr>\n",
       "  </tbody>\n",
       "</table>\n",
       "<p>5 rows × 93 columns</p>\n",
       "</div>"
      ],
      "text/plain": [
       "   Aircraft_Key  cert_max_gr_wt  fc_seats  cc_seats  pax_seats  total_seats  \\\n",
       "0             1             NaN       NaN       NaN        NaN          NaN   \n",
       "1             1          2400.0       NaN       NaN        NaN          4.0   \n",
       "2             2          1960.0       NaN       NaN        NaN          2.0   \n",
       "3             1          2850.0       NaN       NaN        NaN          2.0   \n",
       "4             1          9920.0       NaN       NaN        NaN          9.0   \n",
       "\n",
       "   num_eng       date_last_insp  afm_hrs_last_insp  afm_hrs  ...  lchg_userid  \\\n",
       "0      NaN                  NaN                NaN      NaN  ...       gibs-i   \n",
       "1      1.0  2007-04-01 00:00:00               75.0   2865.0  ...          NaN   \n",
       "2      1.0  2007-01-01 00:00:00                NaN    340.0  ...          NaN   \n",
       "3      1.0  2007-09-01 00:00:00                NaN    516.0  ...          NaN   \n",
       "4      1.0                  NaN                NaN   1871.0  ...          NaN   \n",
       "\n",
       "   afm_hrs_since rwy_num  site_seeing  air_medical  med_type_flight  \\\n",
       "0              N     NaN            N            N              NaN   \n",
       "1              Y       7            N            N              NaN   \n",
       "2              Y       7            N            N              NaN   \n",
       "3              N     090            N            N              NaN   \n",
       "4              N     NaN            N            N              NaN   \n",
       "\n",
       "   fuel_on_board  elt_manufacturer  elt_model  elt_reason_other  \n",
       "0            NaN               NaN        NaN               NaN  \n",
       "1            NaN               NaN        NaN               NaN  \n",
       "2            NaN               NaN        NaN               NaN  \n",
       "3            NaN               NaN        NaN               NaN  \n",
       "4            NaN               NaN        NaN               NaN  \n",
       "\n",
       "[5 rows x 93 columns]"
      ]
     },
     "execution_count": 2,
     "metadata": {},
     "output_type": "execute_result"
    }
   ],
   "source": [
    "aircraft_df=pd.read_csv('../data/raw/aircraft.csv',low_memory=False)\n",
    "aircraft_df.head()"
   ]
  },
  {
   "cell_type": "markdown",
   "id": "d8399cbe",
   "metadata": {},
   "source": [
    "## 2. On-time performance data\n",
    "\n",
    "### 2.1. Get download links"
   ]
  },
  {
   "cell_type": "code",
   "execution_count": 2,
   "id": "b27bd082",
   "metadata": {},
   "outputs": [
    {
     "name": "stdout",
     "output_type": "stream",
     "text": [
      "All zip files have been extracted.\n"
     ]
    }
   ],
   "source": [
    "path = '../data/raw/on time data'\n",
    "importlib.reload(data_funcs)\n",
    "data_funcs.unzip_files(path, path, separate_folders=True)"
   ]
  },
  {
   "cell_type": "code",
   "execution_count": 3,
   "id": "f3d68647",
   "metadata": {},
   "outputs": [
    {
     "name": "stdout",
     "output_type": "stream",
     "text": [
      "Processing ../data/raw/on time data/On_Time_Reporting_Carrier_On_Time_Performance_1987_present_2024_12/On_Time_Reporting_Carrier_On_Time_Performance_(1987_present)_2024_12.csv...\n",
      "Processing ../data/raw/on time data/On_Time_Reporting_Carrier_On_Time_Performance_1987_present_2024_9/On_Time_Reporting_Carrier_On_Time_Performance_(1987_present)_2024_9.csv...\n",
      "Processing ../data/raw/on time data/On_Time_Reporting_Carrier_On_Time_Performance_1987_present_2024_6/On_Time_Reporting_Carrier_On_Time_Performance_(1987_present)_2024_6.csv...\n",
      "Processing ../data/raw/on time data/On_Time_Reporting_Carrier_On_Time_Performance_1987_present_2024_3/On_Time_Reporting_Carrier_On_Time_Performance_(1987_present)_2024_3.csv...\n",
      "Processing ../data/raw/on time data/On_Time_Reporting_Carrier_On_Time_Performance_1987_present_2024_10/On_Time_Reporting_Carrier_On_Time_Performance_(1987_present)_2024_10.csv...\n",
      "Processing ../data/raw/on time data/On_Time_Reporting_Carrier_On_Time_Performance_1987_present_2024_2/On_Time_Reporting_Carrier_On_Time_Performance_(1987_present)_2024_2.csv...\n",
      "Processing ../data/raw/on time data/On_Time_Reporting_Carrier_On_Time_Performance_1987_present_2024_7/On_Time_Reporting_Carrier_On_Time_Performance_(1987_present)_2024_7.csv...\n",
      "Processing ../data/raw/on time data/On_Time_Reporting_Carrier_On_Time_Performance_1987_present_2024_11/On_Time_Reporting_Carrier_On_Time_Performance_(1987_present)_2024_11.csv...\n",
      "Processing ../data/raw/on time data/On_Time_Reporting_Carrier_On_Time_Performance_1987_present_2024_4/On_Time_Reporting_Carrier_On_Time_Performance_(1987_present)_2024_4.csv...\n",
      "Processing ../data/raw/on time data/On_Time_Reporting_Carrier_On_Time_Performance_1987_present_2024_8/On_Time_Reporting_Carrier_On_Time_Performance_(1987_present)_2024_8.csv...\n",
      "Processing ../data/raw/on time data/On_Time_Reporting_Carrier_On_Time_Performance_1987_present_2024_5/On_Time_Reporting_Carrier_On_Time_Performance_(1987_present)_2024_5.csv...\n",
      "Processing ../data/raw/on time data/On_Time_Reporting_Carrier_On_Time_Performance_1987_present_2024_1/On_Time_Reporting_Carrier_On_Time_Performance_(1987_present)_2024_1.csv...\n",
      "\n",
      "✅ Combined CSV saved to: ../data/raw/on time data/combined_data.csv\n"
     ]
    }
   ],
   "source": [
    "path = '../data/raw/on time data'\n",
    "importlib.reload(data_funcs)\n",
    "on_time_df = data_funcs.combine_csvs_from_subfolders_chunked(path, output_filename=\"combined_data.csv\")"
   ]
  },
  {
   "cell_type": "code",
   "execution_count": null,
   "id": "32e59536",
   "metadata": {},
   "outputs": [],
   "source": [
    "# url='https://www.bts.gov/browse-statistical-products-and-data/bts-publications/airline-service-quality-performance-234-time'\n",
    "# links=data_funcs.get_ontime_links(url)"
   ]
  },
  {
   "cell_type": "markdown",
   "id": "226d4e48",
   "metadata": {},
   "source": [
    "### 2.2. Download on-time data"
   ]
  },
  {
   "cell_type": "code",
   "execution_count": null,
   "id": "519b0b29",
   "metadata": {},
   "outputs": [],
   "source": [
    "# n_files=3\n",
    "\n",
    "# data_funcs.download_ontime_data(links[:n_files])"
   ]
  },
  {
   "cell_type": "markdown",
   "id": "a0c8ea2a",
   "metadata": {},
   "source": [
    "### 2.3. Parse and combine on-time datafiles"
   ]
  },
  {
   "cell_type": "code",
   "execution_count": null,
   "id": "a9d46dd5",
   "metadata": {},
   "outputs": [
    {
     "name": "stdout",
     "output_type": "stream",
     "text": [
      "../data/raw/ontime.td.202412.asc\n",
      "../data/raw/ontime.td.202410.asc\n",
      "../data/raw/ontime.td.202411.asc\n"
     ]
    }
   ],
   "source": [
    "# data_df=data_funcs.read_asc_datafiles(n_files)"
   ]
  },
  {
   "cell_type": "markdown",
   "id": "92f28453",
   "metadata": {},
   "source": [
    "### 2.3. Save as CSV"
   ]
  },
  {
   "cell_type": "code",
   "execution_count": null,
   "id": "44f55b63",
   "metadata": {},
   "outputs": [],
   "source": [
    "# data_df.to_csv('../data/raw/on_time.csv', index=False)"
   ]
  },
  {
   "cell_type": "markdown",
   "id": "75b5d057",
   "metadata": {},
   "source": [
    "## 2. Airline Registration Data\n",
    "\n",
    "### 2.1. Download the data"
   ]
  },
  {
   "cell_type": "code",
   "execution_count": 12,
   "id": "09369044",
   "metadata": {},
   "outputs": [],
   "source": [
    "# importlib.reload(data_funcs)\n",
    "\n",
    "# url='https://www.faa.gov/licenses_certificates/aircraft_certification/aircraft_registry/releasable_aircraft_download'\n",
    "# aircraft_regis_df = data_funcs.download_airplane_regis(url)"
   ]
  }
 ],
 "metadata": {
  "kernelspec": {
   "display_name": ".venv",
   "language": "python",
   "name": "python3"
  },
  "language_info": {
   "codemirror_mode": {
    "name": "ipython",
    "version": 3
   },
   "file_extension": ".py",
   "mimetype": "text/x-python",
   "name": "python",
   "nbconvert_exporter": "python",
   "pygments_lexer": "ipython3",
   "version": "3.11.4"
  }
 },
 "nbformat": 4,
 "nbformat_minor": 5
}
