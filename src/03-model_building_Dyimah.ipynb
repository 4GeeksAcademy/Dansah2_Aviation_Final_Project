{
 "cells": [
  {
   "cell_type": "markdown",
   "id": "67269d43",
   "metadata": {},
   "source": [
    "# Model building"
   ]
  },
  {
   "cell_type": "code",
   "execution_count": null,
   "id": "cfb18438",
   "metadata": {},
   "outputs": [],
   "source": [
    "import pickle\n",
    "from pathlib import Path\n",
    "\n",
    "import pandas as pd\n",
    "import matplotlib.pyplot as plt\n",
    "from scipy.stats import uniform, randint\n",
    "from sklearn.model_selection import cross_val_score, train_test_split, RandomizedSearchCV\n",
    "from sklearn.ensemble import HistGradientBoostingClassifier\n",
    "from sklearn.metrics import accuracy_score, confusion_matrix, ConfusionMatrixDisplay\n",
    "import seaborn as sns\n",
    "\n",
    "import configuration as config"
   ]
  },
  {
   "cell_type": "markdown",
   "id": "f7670b7b",
   "metadata": {},
   "source": [
    "## 1. Load data"
   ]
  },
  {
   "cell_type": "code",
   "execution_count": null,
   "id": "a7fe1279",
   "metadata": {},
   "outputs": [],
   "source": [
    "train_df=pd.read_csv(config.TRAINING_DATAFILE)\n",
    "test_df=pd.read_csv(config.TESTING_DATAFILE)"
   ]
  },
  {
   "cell_type": "markdown",
   "id": "bb39d6dc",
   "metadata": {},
   "source": [
    "## 2. Cross-validation: naive model"
   ]
  },
  {
   "cell_type": "code",
   "execution_count": null,
   "id": "4b23f1aa",
   "metadata": {},
   "outputs": [],
   "source": [
    "def crossval_boosting_model(training_data: pd.DataFrame, target_variable: str):\n",
    "    X = training_data.drop(columns=target_variable)\n",
    "    y = training_data[target_variable]\n",
    "    X_train, X_test, y_train, y_test = train_test_split(X, y, test_size=0.2, random_state=42)\n",
    "    boosting_model = HistGradientBoostingClassifier(random_state=42)\n",
    "    scores = cross_val_score(boosting_model, X_train, y_train, cv=5)\n",
    "    scores\n",
    "\n",
    "crossval_boosting_model(train_df, 'incident')"
   ]
  },
  {
   "cell_type": "markdown",
   "id": "1f971b6a",
   "metadata": {},
   "source": [
    "## 3. Test-set performance: confusion matrix"
   ]
  },
  {
   "cell_type": "code",
   "execution_count": null,
   "id": "27b7062c",
   "metadata": {},
   "outputs": [],
   "source": [
    "# Plot a confusion matrix to evaluate the model's performance on unseen data\n",
    "def confusion_plot(y_test, y_pred):\n",
    "    acc = accuracy_score(y_test, y_pred)*100\n",
    "    conf_matrix = confusion_matrix(y_test, y_pred, normalize='true')\n",
    "    fig, ax = plt.subplots(figsize=(8,6), dpi=100)\n",
    "    display = ConfusionMatrixDisplay(conf_matrix, display_labels=hist_boost_model.classes_)\n",
    "    ax.set(title=f'Confusion Matrix for the Diabetes Detection Model with {acc:.2f}% overall accuracy')\n",
    "    display.plot(ax=ax, values_format='.2%');\n",
    "\n",
    "confusion_plot(y_test, y_pred)"
   ]
  },
  {
   "cell_type": "markdown",
   "id": "de256b1c",
   "metadata": {},
   "source": [
    "## 4. Model optimization"
   ]
  },
  {
   "cell_type": "code",
   "execution_count": null,
   "id": "793787b9",
   "metadata": {},
   "outputs": [],
   "source": [
    "# Your code here... Use one of the sklearn hyperparameter optimization functions to optimize the model"
   ]
  },
  {
   "cell_type": "markdown",
   "id": "cce95666",
   "metadata": {},
   "source": [
    "## 5. Test-set performance: confusion matrix"
   ]
  },
  {
   "cell_type": "code",
   "execution_count": null,
   "id": "316716ed",
   "metadata": {},
   "outputs": [],
   "source": [
    "confusion_plot(y_test, y_pred)"
   ]
  },
  {
   "cell_type": "markdown",
   "id": "7680fb9d",
   "metadata": {},
   "source": [
    "## 6. Probability distributions"
   ]
  },
  {
   "cell_type": "code",
   "execution_count": null,
   "id": "c3fe9c07",
   "metadata": {},
   "outputs": [],
   "source": [
    "# Your code here... Plot the distributions of predicted probabilities for \n",
    "# incidents and non-incidents in the test set. Hint: sklearn has\n",
    "# model.predict_proba() that returns probabilities rather than class assignments\n",
    "\n",
    "def probabilities_plot(model):\n",
    "    probabilities = model.predict_proba()\n",
    "    sns.histplot(data=probabilities)\n",
    "\n",
    "probabilities_plot(hist_boost_model)"
   ]
  },
  {
   "cell_type": "markdown",
   "id": "e59958c2",
   "metadata": {},
   "source": [
    "## 7. Save the optimized model"
   ]
  },
  {
   "cell_type": "code",
   "execution_count": null,
   "id": "adf1270d",
   "metadata": {},
   "outputs": [],
   "source": [
    "Path(config.MODEL_DIRECTORY).mkdir(exist_ok=True)\n",
    "\n",
    "with open(config.MODEL, 'rb') as output_file:\n",
    "    pickle.dump(model, output_file)"
   ]
  }
 ],
 "metadata": {
  "language_info": {
   "name": "python"
  }
 },
 "nbformat": 4,
 "nbformat_minor": 5
}
