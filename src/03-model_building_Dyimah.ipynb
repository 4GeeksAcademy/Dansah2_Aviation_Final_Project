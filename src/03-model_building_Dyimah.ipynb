{
 "cells": [
  {
   "cell_type": "markdown",
   "id": "67269d43",
   "metadata": {},
   "source": [
    "# Model building"
   ]
  },
  {
   "cell_type": "code",
   "execution_count": null,
   "id": "cfb18438",
   "metadata": {},
   "outputs": [],
   "source": [
    "import pickle\n",
    "from pathlib import Path\n",
    "\n",
    "import pandas as pd\n",
    "import matplotlib.pyplot as plt\n",
    "from scipy.stats import uniform, randint\n",
    "from sklearn.model_selection import cross_val_score, train_test_split, RandomizedSearchCV, HalvingGridSearchCV\n",
    "from sklearn.ensemble import HistGradientBoostingClassifier\n",
    "from sklearn.metrics import accuracy_score, confusion_matrix, ConfusionMatrixDisplay\n",
    "import seaborn as sns\n",
    "\n",
    "import configuration as config"
   ]
  },
  {
   "cell_type": "markdown",
   "id": "f7670b7b",
   "metadata": {},
   "source": [
    "## 1. Load data"
   ]
  },
  {
   "cell_type": "code",
   "execution_count": null,
   "id": "a7fe1279",
   "metadata": {},
   "outputs": [],
   "source": [
    "train_df=pd.read_csv(config.TRAINING_DATAFILE)\n",
    "test_df=pd.read_csv(config.TESTING_DATAFILE)"
   ]
  },
  {
   "cell_type": "markdown",
   "id": "bb39d6dc",
   "metadata": {},
   "source": [
    "## 2. Cross-validation: model"
   ]
  },
  {
   "cell_type": "code",
   "execution_count": null,
   "id": "4b23f1aa",
   "metadata": {},
   "outputs": [],
   "source": [
    "def cross_val_boosting_model(training_data: pd.DataFrame, testing_data: pd.DataFrame, target_variable: str, model):\n",
    "    X_train = training_data.drop(columns=target_variable)\n",
    "    y_train = training_data[target_variable]\n",
    "    X_test = testing_data.drop(columns=target_variable)\n",
    "    y_test = testing_data[target_variable]\n",
    "    y_pred = model.predict(X_test)\n",
    "    scores = cross_val_score(model, X_train, y_train, cv=5)\n",
    "    print(scores)\n",
    "    return X_train, y_train, y_test, y_pred\n",
    "\n",
    "hist_boost_model = HistGradientBoostingClassifier(random_state=42)\n",
    "X_train, y_train, y_test, y_pred = cross_val_boosting_model(train_df, test_df, 'incident', hist_boost_model)"
   ]
  },
  {
   "cell_type": "markdown",
   "id": "1f971b6a",
   "metadata": {},
   "source": [
    "## 3. Test-set performance: confusion matrix"
   ]
  },
  {
   "cell_type": "code",
   "execution_count": null,
   "id": "27b7062c",
   "metadata": {},
   "outputs": [],
   "source": [
    "# Plot a confusion matrix to evaluate the model's performance on unseen data\n",
    "def confusion_plot(y_test, y_pred, model):\n",
    "    acc = accuracy_score(y_test, y_pred)*100\n",
    "    conf_matrix = confusion_matrix(y_test, y_pred, normalize='true')\n",
    "    fig, ax = plt.subplots(figsize=(8,6), dpi=100)\n",
    "    display = ConfusionMatrixDisplay(conf_matrix, display_labels=model.classes_)\n",
    "    ax.set(title=f'Confusion Matrix for the Diabetes Detection Model with {acc:.2f}% overall accuracy')\n",
    "    display.plot(ax=ax, values_format='.2%');\n",
    "\n",
    "confusion_plot(y_test, y_pred, hist_boost_model)"
   ]
  },
  {
   "cell_type": "markdown",
   "id": "de256b1c",
   "metadata": {},
   "source": [
    "## 4. Model optimization"
   ]
  },
  {
   "cell_type": "code",
   "execution_count": null,
   "id": "793787b9",
   "metadata": {},
   "outputs": [],
   "source": [
    "# Your code here... Use one of the sklearn hyperparameter optimization functions to optimize the model\n",
    "def get_best_params(model, optimizer):\n",
    "    hyper_params = {\n",
    "        'learning_rate': [0.01, 0.05, 0.1, 0.2, 0.3],\n",
    "        'max_iter': [100, 200, 500, 1000],\n",
    "        'max_leaf_nodes': [15, 31, 63, 127],\n",
    "        'l2_regularization': [0.0, 0.1, 1.0, 10.0],\n",
    "    }\n",
    "\n",
    "    grid = optimizer(model, hyper_params, scoring='balanced_accuracy', cv=5, n_jobs=-1)\n",
    "    return grid\n",
    "\n",
    "grid = get_best_params(hist_boost_model, HalvingGridSearchCV)"
   ]
  },
  {
   "cell_type": "code",
   "execution_count": null,
   "id": "6d16ea94",
   "metadata": {},
   "outputs": [],
   "source": [
    "run_grid = True\n",
    "\n",
    "if run_grid:\n",
    "    def warn(*args, **kwargs):\n",
    "        pass\n",
    "    import warnings\n",
    "    warnings.warn = warn\n",
    "\n",
    "    grid.fit(X_train, y_train)\n",
    "\n",
    "    print(f\"Best hyperparameters: {grid.best_params_}\")"
   ]
  },
  {
   "cell_type": "code",
   "execution_count": null,
   "id": "4939e6f7",
   "metadata": {},
   "outputs": [],
   "source": [
    "optimized_hist_boost_model = HistGradientBoostingClassifier('INPUT THE OPTIMIZED PARAMETERS')\n",
    "\n",
    "X_train, y_train, y_test, y_pred = cross_val_boosting_model(train_df, test_df, 'incident', optimized_hist_boost_model)"
   ]
  },
  {
   "cell_type": "code",
   "execution_count": null,
   "id": "75f56f8a",
   "metadata": {},
   "outputs": [],
   "source": [
    "def get_predictions(training_data: pd.DataFrame, testing_data: pd.DataFrame, target_variable: str, model):\n",
    "    X_train = training_data.drop(columns=target_variable)\n",
    "    y_train = training_data[target_variable]\n",
    "    X_test = testing_data.drop(columns=target_variable)\n",
    "    y_test = testing_data[target_variable]\n",
    "    model.fit(X_train, y_train)\n",
    "    y_pred = model.predict(X_test)\n",
    "    print(y_pred) \n",
    "    return y_pred, y_test\n",
    "\n",
    "y_pred, y_test = get_predictions(train_df, test_df, 'incident')"
   ]
  },
  {
   "cell_type": "markdown",
   "id": "cce95666",
   "metadata": {},
   "source": [
    "## 5. Test-set performance: confusion matrix"
   ]
  },
  {
   "cell_type": "code",
   "execution_count": null,
   "id": "316716ed",
   "metadata": {},
   "outputs": [],
   "source": [
    "confusion_plot(y_test, y_pred)"
   ]
  },
  {
   "cell_type": "markdown",
   "id": "7680fb9d",
   "metadata": {},
   "source": [
    "## 6. Probability distributions"
   ]
  },
  {
   "cell_type": "code",
   "execution_count": null,
   "id": "c3fe9c07",
   "metadata": {},
   "outputs": [],
   "source": [
    "# Your code here... Plot the distributions of predicted probabilities for \n",
    "# incidents and non-incidents in the test set. Hint: sklearn has\n",
    "# model.predict_proba() that returns probabilities rather than class assignments\n",
    "\n",
    "def probabilities_plot(model, testing_data):\n",
    "    probabilities = model.predict_proba(testing_data)\n",
    "    sns.histplot(data=probabilities)\n",
    "\n",
    "probabilities_plot(optimized_hist_boost_model, test_df)"
   ]
  },
  {
   "cell_type": "markdown",
   "id": "e59958c2",
   "metadata": {},
   "source": [
    "## 7. Save the optimized model"
   ]
  },
  {
   "cell_type": "code",
   "execution_count": null,
   "id": "adf1270d",
   "metadata": {},
   "outputs": [],
   "source": [
    "Path(config.MODEL_DIRECTORY).mkdir(exist_ok=True)\n",
    "\n",
    "with open(config.MODEL, 'rb') as output_file:\n",
    "    pickle.dump(hist_boost_model, output_file)"
   ]
  }
 ],
 "metadata": {
  "language_info": {
   "name": "python"
  }
 },
 "nbformat": 4,
 "nbformat_minor": 5
}
